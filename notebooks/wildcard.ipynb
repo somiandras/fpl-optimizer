{
 "cells": [
  {
   "cell_type": "code",
   "execution_count": 1,
   "metadata": {},
   "outputs": [],
   "source": [
    "import os, sys\n",
    "parent_dir = os.path.abspath('..')\n",
    "if parent_dir not in sys.path:\n",
    "    sys.path.append(parent_dir)"
   ]
  },
  {
   "cell_type": "code",
   "execution_count": 2,
   "metadata": {},
   "outputs": [],
   "source": [
    "import csv\n",
    "import json\n",
    "import os\n",
    "import re\n",
    "from datetime import datetime\n",
    "\n",
    "import numpy as np\n",
    "import pandas as pd"
   ]
  },
  {
   "cell_type": "code",
   "execution_count": 3,
   "metadata": {},
   "outputs": [
    {
     "name": "stdout",
     "output_type": "stream",
     "text": [
      "(CVXPY) Aug 28 05:59:19 PM: Encountered unexpected exception importing solver CVXOPT:\n",
      "ImportError(\"dlopen(/Users/somiandras/Code/data-projects/fpl_2022/env/lib/python3.10/site-packages/cvxopt/base.cpython-310-darwin.so, 0x0002): tried: '/Users/somiandras/Code/data-projects/fpl_2022/env/lib/python3.10/site-packages/cvxopt/base.cpython-310-darwin.so' (mach-o file, but is an incompatible architecture (have 'x86_64', need 'arm64e'))\")\n",
      "(CVXPY) Aug 28 05:59:19 PM: Encountered unexpected exception importing solver GLPK:\n",
      "ImportError(\"dlopen(/Users/somiandras/Code/data-projects/fpl_2022/env/lib/python3.10/site-packages/cvxopt/base.cpython-310-darwin.so, 0x0002): tried: '/Users/somiandras/Code/data-projects/fpl_2022/env/lib/python3.10/site-packages/cvxopt/base.cpython-310-darwin.so' (mach-o file, but is an incompatible architecture (have 'x86_64', need 'arm64e'))\")\n",
      "(CVXPY) Aug 28 05:59:19 PM: Encountered unexpected exception importing solver GLPK_MI:\n",
      "ImportError(\"dlopen(/Users/somiandras/Code/data-projects/fpl_2022/env/lib/python3.10/site-packages/cvxopt/base.cpython-310-darwin.so, 0x0002): tried: '/Users/somiandras/Code/data-projects/fpl_2022/env/lib/python3.10/site-packages/cvxopt/base.cpython-310-darwin.so' (mach-o file, but is an incompatible architecture (have 'x86_64', need 'arm64e'))\")\n"
     ]
    }
   ],
   "source": [
    "from fpl import get_player_data, get_fixtures\n",
    "from optimize import optimize"
   ]
  },
  {
   "cell_type": "code",
   "execution_count": 4,
   "metadata": {},
   "outputs": [
    {
     "data": {
      "text/html": [
       "<div>\n",
       "<style scoped>\n",
       "    .dataframe tbody tr th:only-of-type {\n",
       "        vertical-align: middle;\n",
       "    }\n",
       "\n",
       "    .dataframe tbody tr th {\n",
       "        vertical-align: top;\n",
       "    }\n",
       "\n",
       "    .dataframe thead th {\n",
       "        text-align: right;\n",
       "    }\n",
       "</style>\n",
       "<table border=\"1\" class=\"dataframe\">\n",
       "  <thead>\n",
       "    <tr style=\"text-align: right;\">\n",
       "      <th></th>\n",
       "      <th>name</th>\n",
       "      <th>position</th>\n",
       "      <th>team</th>\n",
       "      <th>value</th>\n",
       "      <th>expected_points</th>\n",
       "      <th>in_squad</th>\n",
       "      <th>is_available</th>\n",
       "    </tr>\n",
       "    <tr>\n",
       "      <th>id</th>\n",
       "      <th></th>\n",
       "      <th></th>\n",
       "      <th></th>\n",
       "      <th></th>\n",
       "      <th></th>\n",
       "      <th></th>\n",
       "      <th></th>\n",
       "    </tr>\n",
       "  </thead>\n",
       "  <tbody>\n",
       "    <tr>\n",
       "      <th>1</th>\n",
       "      <td>Cédric</td>\n",
       "      <td>DEF</td>\n",
       "      <td>ARS</td>\n",
       "      <td>43.0</td>\n",
       "      <td>0.000000</td>\n",
       "      <td>False</td>\n",
       "      <td>True</td>\n",
       "    </tr>\n",
       "    <tr>\n",
       "      <th>3</th>\n",
       "      <td>Xhaka</td>\n",
       "      <td>MID</td>\n",
       "      <td>ARS</td>\n",
       "      <td>50.0</td>\n",
       "      <td>19.038462</td>\n",
       "      <td>False</td>\n",
       "      <td>True</td>\n",
       "    </tr>\n",
       "    <tr>\n",
       "      <th>4</th>\n",
       "      <td>Elneny</td>\n",
       "      <td>MID</td>\n",
       "      <td>ARS</td>\n",
       "      <td>44.0</td>\n",
       "      <td>1.730769</td>\n",
       "      <td>False</td>\n",
       "      <td>True</td>\n",
       "    </tr>\n",
       "    <tr>\n",
       "      <th>5</th>\n",
       "      <td>Holding</td>\n",
       "      <td>DEF</td>\n",
       "      <td>ARS</td>\n",
       "      <td>43.0</td>\n",
       "      <td>0.865385</td>\n",
       "      <td>False</td>\n",
       "      <td>True</td>\n",
       "    </tr>\n",
       "    <tr>\n",
       "      <th>6</th>\n",
       "      <td>Partey</td>\n",
       "      <td>MID</td>\n",
       "      <td>ARS</td>\n",
       "      <td>50.0</td>\n",
       "      <td>6.923077</td>\n",
       "      <td>False</td>\n",
       "      <td>False</td>\n",
       "    </tr>\n",
       "  </tbody>\n",
       "</table>\n",
       "</div>"
      ],
      "text/plain": [
       "       name position team  value  expected_points  in_squad  is_available\n",
       "id                                                                       \n",
       "1    Cédric      DEF  ARS   43.0         0.000000     False          True\n",
       "3     Xhaka      MID  ARS   50.0        19.038462     False          True\n",
       "4    Elneny      MID  ARS   44.0         1.730769     False          True\n",
       "5   Holding      DEF  ARS   43.0         0.865385     False          True\n",
       "6    Partey      MID  ARS   50.0         6.923077     False         False"
      ]
     },
     "execution_count": 4,
     "metadata": {},
     "output_type": "execute_result"
    }
   ],
   "source": [
    "df = get_player_data(my_team_path=\"../sample_data/team_data.json\")\n",
    "df.head()"
   ]
  },
  {
   "cell_type": "code",
   "execution_count": 8,
   "metadata": {},
   "outputs": [
    {
     "name": "stderr",
     "output_type": "stream",
     "text": [
      "/Users/somiandras/Code/data-projects/fpl_2022/env/lib/python3.10/site-packages/cvxpy/expressions/expression.py:593: UserWarning: \n",
      "This use of ``*`` has resulted in matrix multiplication.\n",
      "Using ``*`` for matrix multiplication has been deprecated since CVXPY 1.1.\n",
      "    Use ``*`` for matrix-scalar and vector-scalar multiplication.\n",
      "    Use ``@`` for matrix-matrix and matrix-vector multiplication.\n",
      "    Use ``multiply`` for elementwise multiplication.\n",
      "This code path has been hit 22 times so far.\n",
      "\n",
      "  warnings.warn(msg, UserWarning)\n",
      "/Users/somiandras/Code/data-projects/fpl_2022/env/lib/python3.10/site-packages/cvxpy/expressions/expression.py:593: UserWarning: \n",
      "This use of ``*`` has resulted in matrix multiplication.\n",
      "Using ``*`` for matrix multiplication has been deprecated since CVXPY 1.1.\n",
      "    Use ``*`` for matrix-scalar and vector-scalar multiplication.\n",
      "    Use ``@`` for matrix-matrix and matrix-vector multiplication.\n",
      "    Use ``multiply`` for elementwise multiplication.\n",
      "This code path has been hit 23 times so far.\n",
      "\n",
      "  warnings.warn(msg, UserWarning)\n",
      "/Users/somiandras/Code/data-projects/fpl_2022/env/lib/python3.10/site-packages/cvxpy/expressions/expression.py:593: UserWarning: \n",
      "This use of ``*`` has resulted in matrix multiplication.\n",
      "Using ``*`` for matrix multiplication has been deprecated since CVXPY 1.1.\n",
      "    Use ``*`` for matrix-scalar and vector-scalar multiplication.\n",
      "    Use ``@`` for matrix-matrix and matrix-vector multiplication.\n",
      "    Use ``multiply`` for elementwise multiplication.\n",
      "This code path has been hit 24 times so far.\n",
      "\n",
      "  warnings.warn(msg, UserWarning)\n",
      "/Users/somiandras/Code/data-projects/fpl_2022/env/lib/python3.10/site-packages/cvxpy/expressions/expression.py:593: UserWarning: \n",
      "This use of ``*`` has resulted in matrix multiplication.\n",
      "Using ``*`` for matrix multiplication has been deprecated since CVXPY 1.1.\n",
      "    Use ``*`` for matrix-scalar and vector-scalar multiplication.\n",
      "    Use ``@`` for matrix-matrix and matrix-vector multiplication.\n",
      "    Use ``multiply`` for elementwise multiplication.\n",
      "This code path has been hit 25 times so far.\n",
      "\n",
      "  warnings.warn(msg, UserWarning)\n",
      "/Users/somiandras/Code/data-projects/fpl_2022/env/lib/python3.10/site-packages/cvxpy/expressions/expression.py:593: UserWarning: \n",
      "This use of ``*`` has resulted in matrix multiplication.\n",
      "Using ``*`` for matrix multiplication has been deprecated since CVXPY 1.1.\n",
      "    Use ``*`` for matrix-scalar and vector-scalar multiplication.\n",
      "    Use ``@`` for matrix-matrix and matrix-vector multiplication.\n",
      "    Use ``multiply`` for elementwise multiplication.\n",
      "This code path has been hit 26 times so far.\n",
      "\n",
      "  warnings.warn(msg, UserWarning)\n",
      "/Users/somiandras/Code/data-projects/fpl_2022/env/lib/python3.10/site-packages/cvxpy/expressions/expression.py:593: UserWarning: \n",
      "This use of ``*`` has resulted in matrix multiplication.\n",
      "Using ``*`` for matrix multiplication has been deprecated since CVXPY 1.1.\n",
      "    Use ``*`` for matrix-scalar and vector-scalar multiplication.\n",
      "    Use ``@`` for matrix-matrix and matrix-vector multiplication.\n",
      "    Use ``multiply`` for elementwise multiplication.\n",
      "This code path has been hit 27 times so far.\n",
      "\n",
      "  warnings.warn(msg, UserWarning)\n",
      "/Users/somiandras/Code/data-projects/fpl_2022/env/lib/python3.10/site-packages/cvxpy/expressions/expression.py:593: UserWarning: \n",
      "This use of ``*`` has resulted in matrix multiplication.\n",
      "Using ``*`` for matrix multiplication has been deprecated since CVXPY 1.1.\n",
      "    Use ``*`` for matrix-scalar and vector-scalar multiplication.\n",
      "    Use ``@`` for matrix-matrix and matrix-vector multiplication.\n",
      "    Use ``multiply`` for elementwise multiplication.\n",
      "This code path has been hit 28 times so far.\n",
      "\n",
      "  warnings.warn(msg, UserWarning)\n"
     ]
    },
    {
     "ename": "SolverError",
     "evalue": "\n\n                    You need a mixed-integer solver for this model. Refer to the documentation\n                        https://www.cvxpy.org/tutorial/advanced/index.html#mixed-integer-programs\n                    for discussion on this topic.\n\n                    Quick fix 1: if you install the python package CVXOPT (pip install cvxopt),\n                    then CVXPY can use the open-source mixed-integer linear programming\n                    solver `GLPK`. If your problem is nonlinear then you can install SCIP\n                    (pip install pyscipopt).\n\n                    Quick fix 2: you can explicitly specify solver='ECOS_BB'. This may result\n                    in incorrect solutions and is not recommended.\n                ",
     "output_type": "error",
     "traceback": [
      "\u001b[0;31m---------------------------------------------------------------------------\u001b[0m",
      "\u001b[0;31mSolverError\u001b[0m                               Traceback (most recent call last)",
      "\u001b[1;32m/Users/somiandras/Code/data-projects/fpl_2022/notebooks/wildcard.ipynb Cell 5\u001b[0m in \u001b[0;36m<cell line: 1>\u001b[0;34m()\u001b[0m\n\u001b[0;32m----> <a href='vscode-notebook-cell:/Users/somiandras/Code/data-projects/fpl_2022/notebooks/wildcard.ipynb#W4sZmlsZQ%3D%3D?line=0'>1</a>\u001b[0m optimize(df, \u001b[39m20\u001b[39;49m, \u001b[39m15\u001b[39;49m)\n",
      "File \u001b[0;32m~/Code/data-projects/fpl_2022/optimize.py:150\u001b[0m, in \u001b[0;36moptimize\u001b[0;34m(players, itb, ft, margin, filler_count)\u001b[0m\n\u001b[1;32m    126\u001b[0m constraints \u001b[39m=\u001b[39m [\n\u001b[1;32m    127\u001b[0m     bench \u001b[39m>\u001b[39m\u001b[39m=\u001b[39m \u001b[39m0\u001b[39m,\n\u001b[1;32m    128\u001b[0m     bench \u001b[39m<\u001b[39m\u001b[39m=\u001b[39m \u001b[39m1\u001b[39m,\n\u001b[0;32m   (...)\u001b[0m\n\u001b[1;32m    146\u001b[0m     filler \u001b[39m*\u001b[39m np\u001b[39m.\u001b[39mfull(\u001b[39mlen\u001b[39m(data\u001b[39m.\u001b[39mindex), \u001b[39m1\u001b[39m) \u001b[39m==\u001b[39m filler_count,\n\u001b[1;32m    147\u001b[0m ]\n\u001b[1;32m    149\u001b[0m prob \u001b[39m=\u001b[39m cp\u001b[39m.\u001b[39mProblem(objective, constraints)\n\u001b[0;32m--> 150\u001b[0m prob\u001b[39m.\u001b[39;49msolve()\n\u001b[1;32m    151\u001b[0m \u001b[39mif\u001b[39;00m prob\u001b[39m.\u001b[39mvalue \u001b[39mis\u001b[39;00m \u001b[39mNone\u001b[39;00m:\n\u001b[1;32m    152\u001b[0m     logger\u001b[39m.\u001b[39mwarning(\u001b[39m\"\u001b[39m\u001b[39mCannot optimize for \u001b[39m\u001b[39m{}\u001b[39;00m\u001b[39m\"\u001b[39m\u001b[39m.\u001b[39mformat(formation))\n",
      "File \u001b[0;32m~/Code/data-projects/fpl_2022/env/lib/python3.10/site-packages/cvxpy/problems/problem.py:481\u001b[0m, in \u001b[0;36mProblem.solve\u001b[0;34m(self, *args, **kwargs)\u001b[0m\n\u001b[1;32m    479\u001b[0m \u001b[39melse\u001b[39;00m:\n\u001b[1;32m    480\u001b[0m     solve_func \u001b[39m=\u001b[39m Problem\u001b[39m.\u001b[39m_solve\n\u001b[0;32m--> 481\u001b[0m \u001b[39mreturn\u001b[39;00m solve_func(\u001b[39mself\u001b[39;49m, \u001b[39m*\u001b[39;49margs, \u001b[39m*\u001b[39;49m\u001b[39m*\u001b[39;49mkwargs)\n",
      "File \u001b[0;32m~/Code/data-projects/fpl_2022/env/lib/python3.10/site-packages/cvxpy/problems/problem.py:1007\u001b[0m, in \u001b[0;36mProblem._solve\u001b[0;34m(self, solver, warm_start, verbose, gp, qcp, requires_grad, enforce_dpp, ignore_dpp, **kwargs)\u001b[0m\n\u001b[1;32m   1004\u001b[0m         \u001b[39mself\u001b[39m\u001b[39m.\u001b[39munpack(chain\u001b[39m.\u001b[39mretrieve(soln))\n\u001b[1;32m   1005\u001b[0m         \u001b[39mreturn\u001b[39;00m \u001b[39mself\u001b[39m\u001b[39m.\u001b[39mvalue\n\u001b[0;32m-> 1007\u001b[0m data, solving_chain, inverse_data \u001b[39m=\u001b[39m \u001b[39mself\u001b[39;49m\u001b[39m.\u001b[39;49mget_problem_data(\n\u001b[1;32m   1008\u001b[0m     solver, gp, enforce_dpp, ignore_dpp, verbose)\n\u001b[1;32m   1010\u001b[0m \u001b[39mif\u001b[39;00m verbose:\n\u001b[1;32m   1011\u001b[0m     \u001b[39mprint\u001b[39m(_NUM_SOLVER_STR)\n",
      "File \u001b[0;32m~/Code/data-projects/fpl_2022/env/lib/python3.10/site-packages/cvxpy/problems/problem.py:607\u001b[0m, in \u001b[0;36mProblem.get_problem_data\u001b[0;34m(self, solver, gp, enforce_dpp, ignore_dpp, verbose)\u001b[0m\n\u001b[1;32m    605\u001b[0m \u001b[39mif\u001b[39;00m key \u001b[39m!=\u001b[39m \u001b[39mself\u001b[39m\u001b[39m.\u001b[39m_cache\u001b[39m.\u001b[39mkey:\n\u001b[1;32m    606\u001b[0m     \u001b[39mself\u001b[39m\u001b[39m.\u001b[39m_cache\u001b[39m.\u001b[39minvalidate()\n\u001b[0;32m--> 607\u001b[0m     solving_chain \u001b[39m=\u001b[39m \u001b[39mself\u001b[39;49m\u001b[39m.\u001b[39;49m_construct_chain(\n\u001b[1;32m    608\u001b[0m         solver\u001b[39m=\u001b[39;49msolver, gp\u001b[39m=\u001b[39;49mgp,\n\u001b[1;32m    609\u001b[0m         enforce_dpp\u001b[39m=\u001b[39;49menforce_dpp,\n\u001b[1;32m    610\u001b[0m         ignore_dpp\u001b[39m=\u001b[39;49mignore_dpp)\n\u001b[1;32m    611\u001b[0m     \u001b[39mself\u001b[39m\u001b[39m.\u001b[39m_cache\u001b[39m.\u001b[39mkey \u001b[39m=\u001b[39m key\n\u001b[1;32m    612\u001b[0m     \u001b[39mself\u001b[39m\u001b[39m.\u001b[39m_cache\u001b[39m.\u001b[39msolving_chain \u001b[39m=\u001b[39m solving_chain\n",
      "File \u001b[0;32m~/Code/data-projects/fpl_2022/env/lib/python3.10/site-packages/cvxpy/problems/problem.py:843\u001b[0m, in \u001b[0;36mProblem._construct_chain\u001b[0;34m(self, solver, gp, enforce_dpp, ignore_dpp)\u001b[0m\n\u001b[1;32m    813\u001b[0m \u001b[39mdef\u001b[39;00m \u001b[39m_construct_chain\u001b[39m(\n\u001b[1;32m    814\u001b[0m     \u001b[39mself\u001b[39m, solver: Optional[\u001b[39mstr\u001b[39m] \u001b[39m=\u001b[39m \u001b[39mNone\u001b[39;00m, gp: \u001b[39mbool\u001b[39m \u001b[39m=\u001b[39m \u001b[39mFalse\u001b[39;00m,\n\u001b[1;32m    815\u001b[0m     enforce_dpp: \u001b[39mbool\u001b[39m \u001b[39m=\u001b[39m \u001b[39mFalse\u001b[39;00m, ignore_dpp: \u001b[39mbool\u001b[39m \u001b[39m=\u001b[39m \u001b[39mFalse\u001b[39;00m\n\u001b[1;32m    816\u001b[0m ) \u001b[39m-\u001b[39m\u001b[39m>\u001b[39m SolvingChain:\n\u001b[1;32m    817\u001b[0m     \u001b[39m\"\"\"\u001b[39;00m\n\u001b[1;32m    818\u001b[0m \u001b[39m    Construct the chains required to reformulate and solve the problem.\u001b[39;00m\n\u001b[1;32m    819\u001b[0m \n\u001b[0;32m   (...)\u001b[0m\n\u001b[1;32m    841\u001b[0m \u001b[39m    A solving chain\u001b[39;00m\n\u001b[1;32m    842\u001b[0m \u001b[39m    \"\"\"\u001b[39;00m\n\u001b[0;32m--> 843\u001b[0m     candidate_solvers \u001b[39m=\u001b[39m \u001b[39mself\u001b[39;49m\u001b[39m.\u001b[39;49m_find_candidate_solvers(solver\u001b[39m=\u001b[39;49msolver, gp\u001b[39m=\u001b[39;49mgp)\n\u001b[1;32m    844\u001b[0m     \u001b[39mself\u001b[39m\u001b[39m.\u001b[39m_sort_candidate_solvers(candidate_solvers)\n\u001b[1;32m    845\u001b[0m     \u001b[39mreturn\u001b[39;00m construct_solving_chain(\u001b[39mself\u001b[39m, candidate_solvers, gp\u001b[39m=\u001b[39mgp,\n\u001b[1;32m    846\u001b[0m                                    enforce_dpp\u001b[39m=\u001b[39menforce_dpp,\n\u001b[1;32m    847\u001b[0m                                    ignore_dpp\u001b[39m=\u001b[39mignore_dpp)\n",
      "File \u001b[0;32m~/Code/data-projects/fpl_2022/env/lib/python3.10/site-packages/cvxpy/problems/problem.py:760\u001b[0m, in \u001b[0;36mProblem._find_candidate_solvers\u001b[0;34m(self, solver, gp)\u001b[0m\n\u001b[1;32m    745\u001b[0m \u001b[39mif\u001b[39;00m slv_def\u001b[39m.\u001b[39mINSTALLED_MI_SOLVERS \u001b[39m==\u001b[39m [s\u001b[39m.\u001b[39mECOS_BB] \u001b[39mand\u001b[39;00m solver \u001b[39m!=\u001b[39m s\u001b[39m.\u001b[39mECOS_BB:\n\u001b[1;32m    746\u001b[0m     msg \u001b[39m=\u001b[39m \u001b[39m\"\"\"\u001b[39m\n\u001b[1;32m    747\u001b[0m \n\u001b[1;32m    748\u001b[0m \u001b[39m        You need a mixed-integer solver for this model. Refer to the documentation\u001b[39m\n\u001b[0;32m   (...)\u001b[0m\n\u001b[1;32m    758\u001b[0m \u001b[39m        in incorrect solutions and is not recommended.\u001b[39m\n\u001b[1;32m    759\u001b[0m \u001b[39m    \u001b[39m\u001b[39m\"\"\"\u001b[39m\n\u001b[0;32m--> 760\u001b[0m     \u001b[39mraise\u001b[39;00m error\u001b[39m.\u001b[39mSolverError(msg)\n\u001b[1;32m    761\u001b[0m \u001b[39m# TODO: provide a useful error message when the problem is nonlinear but\u001b[39;00m\n\u001b[1;32m    762\u001b[0m \u001b[39m#  the only installed mixed-integer solvers are MILP solvers (e.g., GLPK_MI).\u001b[39;00m\n\u001b[1;32m    763\u001b[0m candidates[\u001b[39m'\u001b[39m\u001b[39mqp_solvers\u001b[39m\u001b[39m'\u001b[39m] \u001b[39m=\u001b[39m [\n\u001b[1;32m    764\u001b[0m     s \u001b[39mfor\u001b[39;00m s \u001b[39min\u001b[39;00m candidates[\u001b[39m'\u001b[39m\u001b[39mqp_solvers\u001b[39m\u001b[39m'\u001b[39m]\n\u001b[1;32m    765\u001b[0m     \u001b[39mif\u001b[39;00m slv_def\u001b[39m.\u001b[39mSOLVER_MAP_QP[s]\u001b[39m.\u001b[39mMIP_CAPABLE]\n",
      "\u001b[0;31mSolverError\u001b[0m: \n\n                    You need a mixed-integer solver for this model. Refer to the documentation\n                        https://www.cvxpy.org/tutorial/advanced/index.html#mixed-integer-programs\n                    for discussion on this topic.\n\n                    Quick fix 1: if you install the python package CVXOPT (pip install cvxopt),\n                    then CVXPY can use the open-source mixed-integer linear programming\n                    solver `GLPK`. If your problem is nonlinear then you can install SCIP\n                    (pip install pyscipopt).\n\n                    Quick fix 2: you can explicitly specify solver='ECOS_BB'. This may result\n                    in incorrect solutions and is not recommended.\n                "
     ]
    }
   ],
   "source": [
    "optimize(df, 20, 15)"
   ]
  },
  {
   "cell_type": "code",
   "execution_count": 68,
   "metadata": {},
   "outputs": [
    {
     "data": {
      "text/plain": [
       "array(['DEF', 'FWD', 'GKP', 'MID'], dtype=object)"
      ]
     },
     "execution_count": 68,
     "metadata": {},
     "output_type": "execute_result"
    }
   ],
   "source": [
    "df[\"position\"].sort_values().unique()"
   ]
  },
  {
   "cell_type": "code",
   "execution_count": 47,
   "metadata": {},
   "outputs": [
    {
     "data": {
      "text/plain": [
       "team\n",
       "1     0.865385\n",
       "2     0.661765\n",
       "3     1.704545\n",
       "4     1.250000\n",
       "5     1.071429\n",
       "6     0.892857\n",
       "7     1.339286\n",
       "8     0.781250\n",
       "9     1.083333\n",
       "10    1.153846\n",
       "11    1.041667\n",
       "12    0.961538\n",
       "13    1.041667\n",
       "14    0.859375\n",
       "15    0.982143\n",
       "16    0.916667\n",
       "17    1.354167\n",
       "18    0.735294\n",
       "19    0.982143\n",
       "20    0.808824\n",
       "dtype: float64"
      ]
     },
     "execution_count": 47,
     "metadata": {},
     "output_type": "execute_result"
    }
   ],
   "source": [
    "fixtures = pd.DataFrame.from_records([fixture.dict() for fixture in get_fixtures()])\n",
    "(\n",
    "    pd.concat(\n",
    "        [\n",
    "            fixtures[[\"id\", \"event\", \"team_h\", \"team_h_difficulty\"]].rename(\n",
    "                columns={\"team_h\": \"team\", \"team_h_difficulty\": \"difficulty\"}\n",
    "            ),\n",
    "            fixtures[[\"id\", \"event\", \"team_a\", \"team_a_difficulty\"]].rename(\n",
    "                columns={\"team_a\": \"team\", \"team_a_difficulty\": \"difficulty\"}\n",
    "            ),\n",
    "        ]\n",
    "    )\n",
    "    .query(\"event < 10\")\n",
    "    .assign(phase=lambda x: (x[\"event\"] < 5).map({True: \"pre\", False: \"post\"}))\n",
    "    .groupby([\"team\", \"phase\"])[\"difficulty\"]\n",
    "    .mean()\n",
    "    .unstack(1)\n",
    "    .pipe(lambda x: x[\"pre\"] / x[\"post\"])\n",
    ")\n"
   ]
  },
  {
   "cell_type": "code",
   "execution_count": null,
   "metadata": {},
   "outputs": [],
   "source": []
  }
 ],
 "metadata": {
  "kernelspec": {
   "display_name": "Python 3.10.5 ('env': venv)",
   "language": "python",
   "name": "python3"
  },
  "language_info": {
   "codemirror_mode": {
    "name": "ipython",
    "version": 3
   },
   "file_extension": ".py",
   "mimetype": "text/x-python",
   "name": "python",
   "nbconvert_exporter": "python",
   "pygments_lexer": "ipython3",
   "version": "3.10.5"
  },
  "orig_nbformat": 4,
  "vscode": {
   "interpreter": {
    "hash": "12b73814eb4f1c758320caf6dd611836c97eece0d0ad072e5e996669e9e5013a"
   }
  }
 },
 "nbformat": 4,
 "nbformat_minor": 2
}
